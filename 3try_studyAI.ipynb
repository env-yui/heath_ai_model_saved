{
  "cells": [
    {
      "cell_type": "code",
      "execution_count": 7,
      "metadata": {
        "id": "Tms6TFOsc7pa"
      },
      "outputs": [],
      "source": [
        "import pandas as pd\n",
        "\n",
        "import numpy as np\n",
        "from tensorflow.keras.models import Sequential\n",
        "from tensorflow.keras.layers import Dense, Dropout\n",
        "from tensorflow.keras.utils import to_categorical\n",
        "from sklearn.model_selection import train_test_split\n",
        "from tensorflow import keras\n",
        "import tensorflow as tf\n"
      ]
    },
    {
      "cell_type": "code",
      "execution_count": 8,
      "metadata": {
        "id": "Esnj2nYRe0SN"
      },
      "outputs": [],
      "source": [
        "df = pd.read_csv(\"h-indexes-work.csv\")"
      ]
    },
    {
      "cell_type": "code",
      "execution_count": 9,
      "metadata": {
        "id": "AIYGAsJifRcd"
      },
      "outputs": [],
      "source": [
        "y = df['HeartDisease']\n",
        "\n",
        "x = df.drop(['HeartDisease'],axis=1)"
      ]
    },
    {
      "cell_type": "code",
      "execution_count": 10,
      "metadata": {
        "id": "zv1w1W8pfULw"
      },
      "outputs": [],
      "source": [
        "X_train, X_test, y_train, y_test = train_test_split(x, y, test_size=0.20, random_state=42)"
      ]
    },
    {
      "cell_type": "code",
      "execution_count": 11,
      "metadata": {
        "id": "d6jek_AAfVqB"
      },
      "outputs": [],
      "source": [
        "X_train = X_train.values\n",
        "X_test = X_test.values\n",
        "y_train = y_train.values\n",
        "y_test = y_test.values"
      ]
    },
    {
      "cell_type": "code",
      "execution_count": 12,
      "metadata": {
        "id": "r11Z3k2qfWtt"
      },
      "outputs": [],
      "source": [
        "y_train_bin = to_categorical(y_train)\n",
        "y_test_bin = to_categorical(y_test)"
      ]
    },
    {
      "cell_type": "code",
      "execution_count": 13,
      "metadata": {
        "id": "gcVS_evtfYO7"
      },
      "outputs": [],
      "source": [
        "model=Sequential()\n",
        "model.add(Dense(25,input_dim=10,activation='relu'))\n",
        "model.add(Dense(16,activation='relu'))\n",
        "model.add(Dense(2,activation='softmax'))"
      ]
    },
    {
      "cell_type": "code",
      "execution_count": 14,
      "metadata": {
        "id": "slHYX6HbfZcY"
      },
      "outputs": [],
      "source": [
        "my_adam = keras.optimizers.Adam(learning_rate=0.001)\n",
        "model.compile(loss='categorical_crossentropy',\n",
        "             optimizer=my_adam,\n",
        "             metrics = ['accuracy'])"
      ]
    },
    {
      "cell_type": "code",
      "execution_count": 15,
      "metadata": {
        "colab": {
          "base_uri": "https://localhost:8080/"
        },
        "id": "49sU1soqfagQ",
        "outputId": "a16474e3-423f-4de5-af6a-abdf465eed23"
      },
      "outputs": [
        {
          "output_type": "stream",
          "name": "stdout",
          "text": [
            "Epoch 1/10\n",
            "592/592 [==============================] - 5s 4ms/step - loss: nan - accuracy: 0.8700 - val_loss: nan - val_accuracy: 0.9139\n",
            "Epoch 2/10\n",
            "592/592 [==============================] - 2s 4ms/step - loss: nan - accuracy: 0.9146 - val_loss: nan - val_accuracy: 0.9139\n",
            "Epoch 3/10\n",
            "592/592 [==============================] - 3s 6ms/step - loss: nan - accuracy: 0.9146 - val_loss: nan - val_accuracy: 0.9139\n",
            "Epoch 4/10\n",
            "592/592 [==============================] - 3s 5ms/step - loss: nan - accuracy: 0.9146 - val_loss: nan - val_accuracy: 0.9139\n",
            "Epoch 5/10\n",
            "592/592 [==============================] - 3s 4ms/step - loss: nan - accuracy: 0.9146 - val_loss: nan - val_accuracy: 0.9139\n",
            "Epoch 6/10\n",
            "592/592 [==============================] - 2s 4ms/step - loss: nan - accuracy: 0.9146 - val_loss: nan - val_accuracy: 0.9139\n",
            "Epoch 7/10\n",
            "592/592 [==============================] - 2s 4ms/step - loss: nan - accuracy: 0.9146 - val_loss: nan - val_accuracy: 0.9139\n",
            "Epoch 8/10\n",
            "592/592 [==============================] - 3s 5ms/step - loss: nan - accuracy: 0.9146 - val_loss: nan - val_accuracy: 0.9139\n",
            "Epoch 9/10\n",
            "592/592 [==============================] - 3s 6ms/step - loss: nan - accuracy: 0.9146 - val_loss: nan - val_accuracy: 0.9139\n",
            "Epoch 10/10\n",
            "592/592 [==============================] - 3s 5ms/step - loss: nan - accuracy: 0.9146 - val_loss: nan - val_accuracy: 0.9139\n"
          ]
        }
      ],
      "source": [
        "core = model.fit(X_train, y_train_bin, epochs=10, batch_size=200, validation_split=0.2)"
      ]
    },
    {
      "cell_type": "code",
      "execution_count": 16,
      "metadata": {
        "id": "jxiiVjsJffMP",
        "colab": {
          "base_uri": "https://localhost:8080/"
        },
        "outputId": "8497b9a0-04d6-413a-8d71-b7b82f934086"
      },
      "outputs": [
        {
          "output_type": "stream",
          "name": "stdout",
          "text": [
            "4625/4625 [==============================] - 14s 3ms/step - loss: nan - accuracy: 0.9144\n"
          ]
        },
        {
          "output_type": "execute_result",
          "data": {
            "text/plain": [
              "[nan, 0.9144457578659058]"
            ]
          },
          "metadata": {},
          "execution_count": 16
        }
      ],
      "source": [
        "model.evaluate(X_train, y_train_bin)"
      ]
    },
    {
      "cell_type": "code",
      "execution_count": 17,
      "metadata": {
        "id": "y6-RpxAEfiQh"
      },
      "outputs": [],
      "source": [
        "n= [[12,1,0,30.0,10,0,75,7.0,1,0]]"
      ]
    },
    {
      "cell_type": "code",
      "execution_count": 18,
      "metadata": {
        "id": "54xEgOhDfn3V",
        "colab": {
          "base_uri": "https://localhost:8080/"
        },
        "outputId": "0b3cc4be-e4c4-4fbf-e7d9-e6b7bab8863f"
      },
      "outputs": [
        {
          "output_type": "stream",
          "name": "stdout",
          "text": [
            "1/1 [==============================] - 0s 175ms/step\n"
          ]
        }
      ],
      "source": [
        "predictions = model.predict(n)"
      ]
    },
    {
      "cell_type": "code",
      "execution_count": 19,
      "metadata": {
        "id": "tK1RFhUjfpkJ",
        "colab": {
          "base_uri": "https://localhost:8080/"
        },
        "outputId": "20cb492e-abd9-4ee0-92b8-a28c157c7711"
      },
      "outputs": [
        {
          "output_type": "stream",
          "name": "stdout",
          "text": [
            "1/1 [==============================] - 0s 56ms/step\n"
          ]
        },
        {
          "output_type": "execute_result",
          "data": {
            "text/plain": [
              "array([[nan, nan]], dtype=float32)"
            ]
          },
          "metadata": {},
          "execution_count": 19
        }
      ],
      "source": [
        "model.predict(n)"
      ]
    },
    {
      "cell_type": "code",
      "execution_count": 20,
      "metadata": {
        "id": "OFymXM2Cfskv"
      },
      "outputs": [],
      "source": [
        "predictions = np.argmax(predictions)"
      ]
    },
    {
      "cell_type": "code",
      "source": [
        "predictions"
      ],
      "metadata": {
        "colab": {
          "base_uri": "https://localhost:8080/"
        },
        "id": "7UNA65Efjeek",
        "outputId": "68f319c8-2b66-4776-ffd4-65822d7e8e93"
      },
      "execution_count": 21,
      "outputs": [
        {
          "output_type": "execute_result",
          "data": {
            "text/plain": [
              "0"
            ]
          },
          "metadata": {},
          "execution_count": 21
        }
      ]
    },
    {
      "cell_type": "code",
      "execution_count": 22,
      "metadata": {
        "id": "cBt-OEicfsz4",
        "colab": {
          "base_uri": "https://localhost:8080/"
        },
        "outputId": "be3e5316-0985-412b-a9d7-e3dbcc231158"
      },
      "outputs": [
        {
          "output_type": "stream",
          "name": "stdout",
          "text": [
            "Додаткова  провірка на серце  не потрібна!\n"
          ]
        }
      ],
      "source": [
        "if predictions ==0:\n",
        "    print('Додаткова  провірка на серце  не потрібна!')\n",
        "else: print('Потрібна перевірка серця!')"
      ]
    },
    {
      "cell_type": "code",
      "source": [],
      "metadata": {
        "id": "-6YTSrc0LlQ9"
      },
      "execution_count": null,
      "outputs": []
    }
  ],
  "metadata": {
    "accelerator": "GPU",
    "colab": {
      "provenance": [],
      "mount_file_id": "1cMW3K7jtY9M5GIEMJwpm30MclhNKwcwr",
      "authorship_tag": "ABX9TyO2UhDgJ1Cc5vnFVZsXnAtd"
    },
    "kernelspec": {
      "display_name": "Python 3",
      "name": "python3"
    },
    "language_info": {
      "name": "python"
    }
  },
  "nbformat": 4,
  "nbformat_minor": 0
}